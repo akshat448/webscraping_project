


from utils import *


df = pd.read_csv('characters.csv')


df


# Initializing empty list for graphs from books
books_graph = []
all_books = [b for b in os.scandir('data') if '.txt' in b.name]
# Load spacy English languague model
nlp = spacy.load("en_core_web_sm")

# Sort dir entries by name
all_books.sort(key=lambda x: x.name)
all_books


book = all_books[0]
book_text = open(book, encoding='utf-8').read()
book_doc = nlp(book_text)
sent_df = get_char_in_sentence(book_doc)


sent_df


# Loop through book list and create graphs
for book_entry in all_books:
    book_path = book_entry.path
    book_text = ner(book_path)
    
    # Get list of characters per sentences
    sent_df = get_char_in_sentence(book_text)
    
    # Select only character names
    sent_df['character_name'] = sent_df['Characters'].apply(lambda x: filter_df(x, df))

    # Filter out sentences that don't have any character entities
    sent_df_filtered = sent_df[sent_df['character_name'].map(len) > 0]
    
    # Take only first name of characters
    sent_df_filtered['character_name'] = sent_df_filtered['character_name'].apply(lambda x: [item.split()[0] for item in x])

    # Create relationship df
    relationship_df = relations(df = sent_df_filtered, window_size = 5)                                                                                                               
    
    # Create a graph from a pandas dataframe
    gr = nx.from_pandas_edgelist(relationship_df, 
                                source = "source", 
                                target = "target", 
                                edge_attr = "value", 
                                create_using = nx.Graph())     
    
    books_graph.append(gr)


# Creating a list of degree centrality of all the books
evol = [nx.degree_centrality(book) for book in books_graph]

# Creating a DataFrame from the list of degree centralities in all the books
degree_evol_df = pd.DataFrame.from_records(evol)

# Plotting the degree centrality evolution of 5 main characters
degree_evol_df[["Percy","Annabeth","Kronos","Nancy","Paul"]].plot()
